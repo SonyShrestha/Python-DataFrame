{
 "cells": [
  {
   "cell_type": "code",
   "execution_count": 156,
   "metadata": {},
   "outputs": [],
   "source": [
    "############## Modifying Data within dataframe"
   ]
  },
  {
   "cell_type": "code",
   "execution_count": 218,
   "metadata": {},
   "outputs": [
    {
     "data": {
      "text/html": [
       "<div>\n",
       "<style scoped>\n",
       "    .dataframe tbody tr th:only-of-type {\n",
       "        vertical-align: middle;\n",
       "    }\n",
       "\n",
       "    .dataframe tbody tr th {\n",
       "        vertical-align: top;\n",
       "    }\n",
       "\n",
       "    .dataframe thead th {\n",
       "        text-align: right;\n",
       "    }\n",
       "</style>\n",
       "<table border=\"1\" class=\"dataframe\">\n",
       "  <thead>\n",
       "    <tr style=\"text-align: right;\">\n",
       "      <th></th>\n",
       "      <th>f_name</th>\n",
       "      <th>l_name</th>\n",
       "      <th>age</th>\n",
       "    </tr>\n",
       "  </thead>\n",
       "  <tbody>\n",
       "    <tr>\n",
       "      <th>0</th>\n",
       "      <td>Sony</td>\n",
       "      <td>Shrestha</td>\n",
       "      <td>one</td>\n",
       "    </tr>\n",
       "    <tr>\n",
       "      <th>1</th>\n",
       "      <td>Pragya</td>\n",
       "      <td>Shrestha</td>\n",
       "      <td>two</td>\n",
       "    </tr>\n",
       "    <tr>\n",
       "      <th>...</th>\n",
       "      <td>...</td>\n",
       "      <td>...</td>\n",
       "      <td>...</td>\n",
       "    </tr>\n",
       "    <tr>\n",
       "      <th>4</th>\n",
       "      <td>Hari</td>\n",
       "      <td>Kumar</td>\n",
       "      <td>two</td>\n",
       "    </tr>\n",
       "    <tr>\n",
       "      <th>5</th>\n",
       "      <td>Sita</td>\n",
       "      <td>Giri</td>\n",
       "      <td>three</td>\n",
       "    </tr>\n",
       "  </tbody>\n",
       "</table>\n",
       "<p>6 rows × 3 columns</p>\n",
       "</div>"
      ],
      "text/plain": [
       "    f_name    l_name    age\n",
       "0     Sony  Shrestha    one\n",
       "1   Pragya  Shrestha    two\n",
       "..     ...       ...    ...\n",
       "4     Hari     Kumar    two\n",
       "5     Sita      Giri  three\n",
       "\n",
       "[6 rows x 3 columns]"
      ]
     },
     "execution_count": 218,
     "metadata": {},
     "output_type": "execute_result"
    }
   ],
   "source": [
    "# Create dataframe from dictionary\n",
    "import pandas as pd\n",
    "dict={\n",
    "    \"f_name\":[\"Sony\",\"Pragya\",\"Prasanna\",\"Ram\",\"Hari\",\"Sita\"],\n",
    "    \"l_name\":[\"Shrestha\",\"Shrestha\",\"Shrestha\",\"Prasad\",\"Kumar\",\"Giri\"],\n",
    "    \"age\":[\"one\",\"two\",\"three\",\"one\",\"two\",\"three\"]\n",
    "}\n",
    "df=pd.DataFrame(dict)\n",
    "df"
   ]
  },
  {
   "cell_type": "code",
   "execution_count": 219,
   "metadata": {},
   "outputs": [
    {
     "data": {
      "text/html": [
       "<div>\n",
       "<style scoped>\n",
       "    .dataframe tbody tr th:only-of-type {\n",
       "        vertical-align: middle;\n",
       "    }\n",
       "\n",
       "    .dataframe tbody tr th {\n",
       "        vertical-align: top;\n",
       "    }\n",
       "\n",
       "    .dataframe thead th {\n",
       "        text-align: right;\n",
       "    }\n",
       "</style>\n",
       "<table border=\"1\" class=\"dataframe\">\n",
       "  <thead>\n",
       "    <tr style=\"text-align: right;\">\n",
       "      <th></th>\n",
       "      <th>first_name</th>\n",
       "      <th>last_name</th>\n",
       "      <th>age</th>\n",
       "    </tr>\n",
       "  </thead>\n",
       "  <tbody>\n",
       "    <tr>\n",
       "      <th>0</th>\n",
       "      <td>Sony</td>\n",
       "      <td>Shrestha</td>\n",
       "      <td>one</td>\n",
       "    </tr>\n",
       "    <tr>\n",
       "      <th>1</th>\n",
       "      <td>Pragya</td>\n",
       "      <td>Shrestha</td>\n",
       "      <td>two</td>\n",
       "    </tr>\n",
       "    <tr>\n",
       "      <th>...</th>\n",
       "      <td>...</td>\n",
       "      <td>...</td>\n",
       "      <td>...</td>\n",
       "    </tr>\n",
       "    <tr>\n",
       "      <th>4</th>\n",
       "      <td>Hari</td>\n",
       "      <td>Kumar</td>\n",
       "      <td>two</td>\n",
       "    </tr>\n",
       "    <tr>\n",
       "      <th>5</th>\n",
       "      <td>Sita</td>\n",
       "      <td>Giri</td>\n",
       "      <td>three</td>\n",
       "    </tr>\n",
       "  </tbody>\n",
       "</table>\n",
       "<p>6 rows × 3 columns</p>\n",
       "</div>"
      ],
      "text/plain": [
       "   first_name last_name    age\n",
       "0        Sony  Shrestha    one\n",
       "1      Pragya  Shrestha    two\n",
       "..        ...       ...    ...\n",
       "4        Hari     Kumar    two\n",
       "5        Sita      Giri  three\n",
       "\n",
       "[6 rows x 3 columns]"
      ]
     },
     "execution_count": 219,
     "metadata": {},
     "output_type": "execute_result"
    }
   ],
   "source": [
    "# Rename all columns\n",
    "df.columns=[\"first_name\",\"last_name\",\"age\"]\n",
    "df"
   ]
  },
  {
   "cell_type": "code",
   "execution_count": 220,
   "metadata": {},
   "outputs": [
    {
     "data": {
      "text/html": [
       "<div>\n",
       "<style scoped>\n",
       "    .dataframe tbody tr th:only-of-type {\n",
       "        vertical-align: middle;\n",
       "    }\n",
       "\n",
       "    .dataframe tbody tr th {\n",
       "        vertical-align: top;\n",
       "    }\n",
       "\n",
       "    .dataframe thead th {\n",
       "        text-align: right;\n",
       "    }\n",
       "</style>\n",
       "<table border=\"1\" class=\"dataframe\">\n",
       "  <thead>\n",
       "    <tr style=\"text-align: right;\">\n",
       "      <th></th>\n",
       "      <th>FIRST_NAME</th>\n",
       "      <th>LAST_NAME</th>\n",
       "      <th>AGE</th>\n",
       "    </tr>\n",
       "  </thead>\n",
       "  <tbody>\n",
       "    <tr>\n",
       "      <th>0</th>\n",
       "      <td>Sony</td>\n",
       "      <td>Shrestha</td>\n",
       "      <td>one</td>\n",
       "    </tr>\n",
       "    <tr>\n",
       "      <th>1</th>\n",
       "      <td>Pragya</td>\n",
       "      <td>Shrestha</td>\n",
       "      <td>two</td>\n",
       "    </tr>\n",
       "    <tr>\n",
       "      <th>...</th>\n",
       "      <td>...</td>\n",
       "      <td>...</td>\n",
       "      <td>...</td>\n",
       "    </tr>\n",
       "    <tr>\n",
       "      <th>4</th>\n",
       "      <td>Hari</td>\n",
       "      <td>Kumar</td>\n",
       "      <td>two</td>\n",
       "    </tr>\n",
       "    <tr>\n",
       "      <th>5</th>\n",
       "      <td>Sita</td>\n",
       "      <td>Giri</td>\n",
       "      <td>three</td>\n",
       "    </tr>\n",
       "  </tbody>\n",
       "</table>\n",
       "<p>6 rows × 3 columns</p>\n",
       "</div>"
      ],
      "text/plain": [
       "   FIRST_NAME LAST_NAME    AGE\n",
       "0        Sony  Shrestha    one\n",
       "1      Pragya  Shrestha    two\n",
       "..        ...       ...    ...\n",
       "4        Hari     Kumar    two\n",
       "5        Sita      Giri  three\n",
       "\n",
       "[6 rows x 3 columns]"
      ]
     },
     "execution_count": 220,
     "metadata": {},
     "output_type": "execute_result"
    }
   ],
   "source": [
    "# Rename all coulmns in upper case\n",
    "df.columns=[x.upper() for x in df.columns]\n",
    "df"
   ]
  },
  {
   "cell_type": "code",
   "execution_count": 221,
   "metadata": {},
   "outputs": [
    {
     "data": {
      "text/html": [
       "<div>\n",
       "<style scoped>\n",
       "    .dataframe tbody tr th:only-of-type {\n",
       "        vertical-align: middle;\n",
       "    }\n",
       "\n",
       "    .dataframe tbody tr th {\n",
       "        vertical-align: top;\n",
       "    }\n",
       "\n",
       "    .dataframe thead th {\n",
       "        text-align: right;\n",
       "    }\n",
       "</style>\n",
       "<table border=\"1\" class=\"dataframe\">\n",
       "  <thead>\n",
       "    <tr style=\"text-align: right;\">\n",
       "      <th></th>\n",
       "      <th>FIRST-NAME</th>\n",
       "      <th>LAST-NAME</th>\n",
       "      <th>AGE</th>\n",
       "    </tr>\n",
       "  </thead>\n",
       "  <tbody>\n",
       "    <tr>\n",
       "      <th>0</th>\n",
       "      <td>Sony</td>\n",
       "      <td>Shrestha</td>\n",
       "      <td>one</td>\n",
       "    </tr>\n",
       "    <tr>\n",
       "      <th>1</th>\n",
       "      <td>Pragya</td>\n",
       "      <td>Shrestha</td>\n",
       "      <td>two</td>\n",
       "    </tr>\n",
       "    <tr>\n",
       "      <th>...</th>\n",
       "      <td>...</td>\n",
       "      <td>...</td>\n",
       "      <td>...</td>\n",
       "    </tr>\n",
       "    <tr>\n",
       "      <th>4</th>\n",
       "      <td>Hari</td>\n",
       "      <td>Kumar</td>\n",
       "      <td>two</td>\n",
       "    </tr>\n",
       "    <tr>\n",
       "      <th>5</th>\n",
       "      <td>Sita</td>\n",
       "      <td>Giri</td>\n",
       "      <td>three</td>\n",
       "    </tr>\n",
       "  </tbody>\n",
       "</table>\n",
       "<p>6 rows × 3 columns</p>\n",
       "</div>"
      ],
      "text/plain": [
       "   FIRST-NAME LAST-NAME    AGE\n",
       "0        Sony  Shrestha    one\n",
       "1      Pragya  Shrestha    two\n",
       "..        ...       ...    ...\n",
       "4        Hari     Kumar    two\n",
       "5        Sita      Giri  three\n",
       "\n",
       "[6 rows x 3 columns]"
      ]
     },
     "execution_count": 221,
     "metadata": {},
     "output_type": "execute_result"
    }
   ],
   "source": [
    "# Replace _ with - in column name\n",
    "df.columns=df.columns.str.replace(\"_\",\"-\")\n",
    "df"
   ]
  },
  {
   "cell_type": "code",
   "execution_count": 222,
   "metadata": {},
   "outputs": [
    {
     "data": {
      "text/html": [
       "<div>\n",
       "<style scoped>\n",
       "    .dataframe tbody tr th:only-of-type {\n",
       "        vertical-align: middle;\n",
       "    }\n",
       "\n",
       "    .dataframe tbody tr th {\n",
       "        vertical-align: top;\n",
       "    }\n",
       "\n",
       "    .dataframe thead th {\n",
       "        text-align: right;\n",
       "    }\n",
       "</style>\n",
       "<table border=\"1\" class=\"dataframe\">\n",
       "  <thead>\n",
       "    <tr style=\"text-align: right;\">\n",
       "      <th></th>\n",
       "      <th>FIRST_NAME</th>\n",
       "      <th>LAST_NAME</th>\n",
       "      <th>AGE</th>\n",
       "    </tr>\n",
       "  </thead>\n",
       "  <tbody>\n",
       "    <tr>\n",
       "      <th>0</th>\n",
       "      <td>Sony</td>\n",
       "      <td>Shrestha</td>\n",
       "      <td>one</td>\n",
       "    </tr>\n",
       "    <tr>\n",
       "      <th>1</th>\n",
       "      <td>Pragya</td>\n",
       "      <td>Shrestha</td>\n",
       "      <td>two</td>\n",
       "    </tr>\n",
       "    <tr>\n",
       "      <th>...</th>\n",
       "      <td>...</td>\n",
       "      <td>...</td>\n",
       "      <td>...</td>\n",
       "    </tr>\n",
       "    <tr>\n",
       "      <th>4</th>\n",
       "      <td>Hari</td>\n",
       "      <td>Kumar</td>\n",
       "      <td>two</td>\n",
       "    </tr>\n",
       "    <tr>\n",
       "      <th>5</th>\n",
       "      <td>Sita</td>\n",
       "      <td>Giri</td>\n",
       "      <td>three</td>\n",
       "    </tr>\n",
       "  </tbody>\n",
       "</table>\n",
       "<p>6 rows × 3 columns</p>\n",
       "</div>"
      ],
      "text/plain": [
       "   FIRST_NAME LAST_NAME    AGE\n",
       "0        Sony  Shrestha    one\n",
       "1      Pragya  Shrestha    two\n",
       "..        ...       ...    ...\n",
       "4        Hari     Kumar    two\n",
       "5        Sita      Giri  three\n",
       "\n",
       "[6 rows x 3 columns]"
      ]
     },
     "execution_count": 222,
     "metadata": {},
     "output_type": "execute_result"
    }
   ],
   "source": [
    "# Replace - with _ in column name\n",
    "df.columns=df.columns.str.replace(\"-\",\"_\")\n",
    "df"
   ]
  },
  {
   "cell_type": "code",
   "execution_count": 223,
   "metadata": {},
   "outputs": [
    {
     "data": {
      "text/html": [
       "<div>\n",
       "<style scoped>\n",
       "    .dataframe tbody tr th:only-of-type {\n",
       "        vertical-align: middle;\n",
       "    }\n",
       "\n",
       "    .dataframe tbody tr th {\n",
       "        vertical-align: top;\n",
       "    }\n",
       "\n",
       "    .dataframe thead th {\n",
       "        text-align: right;\n",
       "    }\n",
       "</style>\n",
       "<table border=\"1\" class=\"dataframe\">\n",
       "  <thead>\n",
       "    <tr style=\"text-align: right;\">\n",
       "      <th></th>\n",
       "      <th>first_name</th>\n",
       "      <th>last_name</th>\n",
       "      <th>age</th>\n",
       "    </tr>\n",
       "  </thead>\n",
       "  <tbody>\n",
       "    <tr>\n",
       "      <th>0</th>\n",
       "      <td>Sony</td>\n",
       "      <td>Shrestha</td>\n",
       "      <td>one</td>\n",
       "    </tr>\n",
       "    <tr>\n",
       "      <th>1</th>\n",
       "      <td>Pragya</td>\n",
       "      <td>Shrestha</td>\n",
       "      <td>two</td>\n",
       "    </tr>\n",
       "    <tr>\n",
       "      <th>...</th>\n",
       "      <td>...</td>\n",
       "      <td>...</td>\n",
       "      <td>...</td>\n",
       "    </tr>\n",
       "    <tr>\n",
       "      <th>4</th>\n",
       "      <td>Hari</td>\n",
       "      <td>Kumar</td>\n",
       "      <td>two</td>\n",
       "    </tr>\n",
       "    <tr>\n",
       "      <th>5</th>\n",
       "      <td>Sita</td>\n",
       "      <td>Giri</td>\n",
       "      <td>three</td>\n",
       "    </tr>\n",
       "  </tbody>\n",
       "</table>\n",
       "<p>6 rows × 3 columns</p>\n",
       "</div>"
      ],
      "text/plain": [
       "   first_name last_name    age\n",
       "0        Sony  Shrestha    one\n",
       "1      Pragya  Shrestha    two\n",
       "..        ...       ...    ...\n",
       "4        Hari     Kumar    two\n",
       "5        Sita      Giri  three\n",
       "\n",
       "[6 rows x 3 columns]"
      ]
     },
     "execution_count": 223,
     "metadata": {},
     "output_type": "execute_result"
    }
   ],
   "source": [
    "# Rename specific columns\n",
    "df.rename(columns={\"FIRST_NAME\":\"first_name\",\"LAST_NAME\":\"last_name\",\"AGE\":\"age\"},inplace=True)\n",
    "df"
   ]
  },
  {
   "cell_type": "code",
   "execution_count": 224,
   "metadata": {},
   "outputs": [
    {
     "name": "stdout",
     "output_type": "stream",
     "text": [
      "   first_name last_name    age\n",
      "0        Sony  Shrestha    one\n",
      "1      Pragya  Shrestha    two\n",
      "..        ...       ...    ...\n",
      "4        Hari     Kumar    two\n",
      "5        Sita      Giri  three\n",
      "\n",
      "[6 rows x 3 columns]\n",
      "   first_name last_name    age\n",
      "0        Sony  Shrestha    one\n",
      "1      Pragya  Shrestha    two\n",
      "..        ...       ...    ...\n",
      "4     Hariram  Shrestha     28\n",
      "5        Sita      Giri  three\n",
      "\n",
      "[6 rows x 3 columns]\n"
     ]
    }
   ],
   "source": [
    "# Change specific row value\n",
    "print(df)\n",
    "df.loc[4]=[\"Hariram\",\"Shrestha\",28]\n",
    "print(df)"
   ]
  },
  {
   "cell_type": "code",
   "execution_count": 227,
   "metadata": {},
   "outputs": [
    {
     "name": "stdout",
     "output_type": "stream",
     "text": [
      "   first_name last_name    age\n",
      "0        Sony  Shrestha    one\n",
      "1      Pragya  Shrestha    two\n",
      "..        ...       ...    ...\n",
      "4       Harry  Shrestha     28\n",
      "5        Sita      Giri  three\n",
      "\n",
      "[6 rows x 3 columns]\n",
      "   first_name last_name    age\n",
      "0        Sony  Shrestha    one\n",
      "1      Pragya  Shrestha    two\n",
      "..        ...       ...    ...\n",
      "4        Hari  Shrestha    one\n",
      "5        Sita      Giri  three\n",
      "\n",
      "[6 rows x 3 columns]\n"
     ]
    }
   ],
   "source": [
    "# Change specific value for specific row\n",
    "print(df)\n",
    "df.loc[4,[\"first_name\",\"age\"]]=[\"Hari\",\"one\"]\n",
    "print(df)"
   ]
  },
  {
   "cell_type": "code",
   "execution_count": 228,
   "metadata": {},
   "outputs": [
    {
     "name": "stdout",
     "output_type": "stream",
     "text": [
      "   first_name last_name    age\n",
      "0        Sony  Shrestha    one\n",
      "1      Pragya  Shrestha    two\n",
      "..        ...       ...    ...\n",
      "4        Hari  Shrestha    one\n",
      "5        Sita      Giri  three\n",
      "\n",
      "[6 rows x 3 columns]\n",
      "   first_name last_name    age\n",
      "0        Sony  Shrestha    one\n",
      "1      Pragya  Shrestha    two\n",
      "..        ...       ...    ...\n",
      "4       Harry  Shrestha    one\n",
      "5        Sita      Giri  three\n",
      "\n",
      "[6 rows x 3 columns]\n"
     ]
    }
   ],
   "source": [
    "# Change one value for specific row\n",
    "print(df)\n",
    "df.loc[4,\"first_name\"]=\"Harry\"\n",
    "print(df)"
   ]
  },
  {
   "cell_type": "code",
   "execution_count": 234,
   "metadata": {},
   "outputs": [
    {
     "name": "stdout",
     "output_type": "stream",
     "text": [
      "   first_name last_name    age\n",
      "0        sony  Shrestha    one\n",
      "1      pragya  Shrestha    one\n",
      "..        ...       ...    ...\n",
      "4       harry  Shrestha    one\n",
      "5        sita      Giri  three\n",
      "\n",
      "[6 rows x 3 columns]\n"
     ]
    }
   ],
   "source": [
    "# Modify value based on filter logic\n",
    "filt=df[\"last_name\"]==\"Shrestha\"\n",
    "df.loc[filt,\"age\"]=\"one\"\n",
    "print(df)"
   ]
  },
  {
   "cell_type": "code",
   "execution_count": 235,
   "metadata": {},
   "outputs": [
    {
     "name": "stdout",
     "output_type": "stream",
     "text": [
      "   first_name last_name    age\n",
      "0        sony  Shrestha    one\n",
      "1      pragya  Shrestha    one\n",
      "..        ...       ...    ...\n",
      "4       harry  Shrestha    one\n",
      "5        sita      Giri  three\n",
      "\n",
      "[6 rows x 3 columns]\n"
     ]
    }
   ],
   "source": [
    "# Change first_name to lower case\n",
    "df[\"first_name\"]=df[\"first_name\"].str.lower()\n",
    "print(df)"
   ]
  },
  {
   "cell_type": "code",
   "execution_count": 236,
   "metadata": {},
   "outputs": [
    {
     "data": {
      "text/plain": [
       "0    8\n",
       "1    8\n",
       "    ..\n",
       "4    8\n",
       "5    4\n",
       "Name: last_name, Length: 6, dtype: int64"
      ]
     },
     "execution_count": 236,
     "metadata": {},
     "output_type": "execute_result"
    }
   ],
   "source": [
    "# Calculate length of last_name\n",
    "df[\"last_name\"].apply(len)"
   ]
  },
  {
   "cell_type": "code",
   "execution_count": 237,
   "metadata": {},
   "outputs": [
    {
     "data": {
      "text/html": [
       "<div>\n",
       "<style scoped>\n",
       "    .dataframe tbody tr th:only-of-type {\n",
       "        vertical-align: middle;\n",
       "    }\n",
       "\n",
       "    .dataframe tbody tr th {\n",
       "        vertical-align: top;\n",
       "    }\n",
       "\n",
       "    .dataframe thead th {\n",
       "        text-align: right;\n",
       "    }\n",
       "</style>\n",
       "<table border=\"1\" class=\"dataframe\">\n",
       "  <thead>\n",
       "    <tr style=\"text-align: right;\">\n",
       "      <th></th>\n",
       "      <th>first_name</th>\n",
       "      <th>last_name</th>\n",
       "      <th>age</th>\n",
       "    </tr>\n",
       "  </thead>\n",
       "  <tbody>\n",
       "    <tr>\n",
       "      <th>0</th>\n",
       "      <td>SONY</td>\n",
       "      <td>Shrestha</td>\n",
       "      <td>one</td>\n",
       "    </tr>\n",
       "    <tr>\n",
       "      <th>1</th>\n",
       "      <td>PRAGYA</td>\n",
       "      <td>Shrestha</td>\n",
       "      <td>one</td>\n",
       "    </tr>\n",
       "    <tr>\n",
       "      <th>...</th>\n",
       "      <td>...</td>\n",
       "      <td>...</td>\n",
       "      <td>...</td>\n",
       "    </tr>\n",
       "    <tr>\n",
       "      <th>4</th>\n",
       "      <td>HARRY</td>\n",
       "      <td>Shrestha</td>\n",
       "      <td>one</td>\n",
       "    </tr>\n",
       "    <tr>\n",
       "      <th>5</th>\n",
       "      <td>SITA</td>\n",
       "      <td>Giri</td>\n",
       "      <td>three</td>\n",
       "    </tr>\n",
       "  </tbody>\n",
       "</table>\n",
       "<p>6 rows × 3 columns</p>\n",
       "</div>"
      ],
      "text/plain": [
       "   first_name last_name    age\n",
       "0        SONY  Shrestha    one\n",
       "1      PRAGYA  Shrestha    one\n",
       "..        ...       ...    ...\n",
       "4       HARRY  Shrestha    one\n",
       "5        SITA      Giri  three\n",
       "\n",
       "[6 rows x 3 columns]"
      ]
     },
     "execution_count": 237,
     "metadata": {},
     "output_type": "execute_result"
    }
   ],
   "source": [
    "# Apply certain function in given dataframe\n",
    "def update_first_name(name):\n",
    "    return name.upper()\n",
    "df[\"first_name\"].apply(update_first_name)\n",
    "df[\"first_name\"]=df[\"first_name\"].apply(update_first_name)\n",
    "df"
   ]
  },
  {
   "cell_type": "code",
   "execution_count": 238,
   "metadata": {},
   "outputs": [
    {
     "data": {
      "text/html": [
       "<div>\n",
       "<style scoped>\n",
       "    .dataframe tbody tr th:only-of-type {\n",
       "        vertical-align: middle;\n",
       "    }\n",
       "\n",
       "    .dataframe tbody tr th {\n",
       "        vertical-align: top;\n",
       "    }\n",
       "\n",
       "    .dataframe thead th {\n",
       "        text-align: right;\n",
       "    }\n",
       "</style>\n",
       "<table border=\"1\" class=\"dataframe\">\n",
       "  <thead>\n",
       "    <tr style=\"text-align: right;\">\n",
       "      <th></th>\n",
       "      <th>first_name</th>\n",
       "      <th>last_name</th>\n",
       "      <th>age</th>\n",
       "    </tr>\n",
       "  </thead>\n",
       "  <tbody>\n",
       "    <tr>\n",
       "      <th>0</th>\n",
       "      <td>sony</td>\n",
       "      <td>Shrestha</td>\n",
       "      <td>one</td>\n",
       "    </tr>\n",
       "    <tr>\n",
       "      <th>1</th>\n",
       "      <td>pragya</td>\n",
       "      <td>Shrestha</td>\n",
       "      <td>one</td>\n",
       "    </tr>\n",
       "    <tr>\n",
       "      <th>...</th>\n",
       "      <td>...</td>\n",
       "      <td>...</td>\n",
       "      <td>...</td>\n",
       "    </tr>\n",
       "    <tr>\n",
       "      <th>4</th>\n",
       "      <td>harry</td>\n",
       "      <td>Shrestha</td>\n",
       "      <td>one</td>\n",
       "    </tr>\n",
       "    <tr>\n",
       "      <th>5</th>\n",
       "      <td>sita</td>\n",
       "      <td>Giri</td>\n",
       "      <td>three</td>\n",
       "    </tr>\n",
       "  </tbody>\n",
       "</table>\n",
       "<p>6 rows × 3 columns</p>\n",
       "</div>"
      ],
      "text/plain": [
       "   first_name last_name    age\n",
       "0        sony  Shrestha    one\n",
       "1      pragya  Shrestha    one\n",
       "..        ...       ...    ...\n",
       "4       harry  Shrestha    one\n",
       "5        sita      Giri  three\n",
       "\n",
       "[6 rows x 3 columns]"
      ]
     },
     "execution_count": 238,
     "metadata": {},
     "output_type": "execute_result"
    }
   ],
   "source": [
    "# apply certain function in given dataframe \n",
    "df[\"first_name\"]=df[\"first_name\"].apply(lambda x:x.lower())\n",
    "df"
   ]
  },
  {
   "cell_type": "code",
   "execution_count": 239,
   "metadata": {},
   "outputs": [
    {
     "data": {
      "text/plain": [
       "first_name    6\n",
       "last_name     6\n",
       "age           6\n",
       "dtype: int64"
      ]
     },
     "execution_count": 239,
     "metadata": {},
     "output_type": "execute_result"
    }
   ],
   "source": [
    "# aply certain function to each column group\n",
    "df.apply(len)"
   ]
  },
  {
   "cell_type": "code",
   "execution_count": 240,
   "metadata": {},
   "outputs": [
    {
     "data": {
      "text/plain": [
       "first_name    harry\n",
       "last_name      Giri\n",
       "age             one\n",
       "dtype: object"
      ]
     },
     "execution_count": 240,
     "metadata": {},
     "output_type": "execute_result"
    }
   ],
   "source": [
    "# aply certain function to each column group\n",
    "df.apply(min)"
   ]
  },
  {
   "cell_type": "code",
   "execution_count": 241,
   "metadata": {},
   "outputs": [
    {
     "data": {
      "text/html": [
       "<div>\n",
       "<style scoped>\n",
       "    .dataframe tbody tr th:only-of-type {\n",
       "        vertical-align: middle;\n",
       "    }\n",
       "\n",
       "    .dataframe tbody tr th {\n",
       "        vertical-align: top;\n",
       "    }\n",
       "\n",
       "    .dataframe thead th {\n",
       "        text-align: right;\n",
       "    }\n",
       "</style>\n",
       "<table border=\"1\" class=\"dataframe\">\n",
       "  <thead>\n",
       "    <tr style=\"text-align: right;\">\n",
       "      <th></th>\n",
       "      <th>first_name</th>\n",
       "      <th>last_name</th>\n",
       "      <th>age</th>\n",
       "    </tr>\n",
       "  </thead>\n",
       "  <tbody>\n",
       "    <tr>\n",
       "      <th>0</th>\n",
       "      <td>4</td>\n",
       "      <td>8</td>\n",
       "      <td>3</td>\n",
       "    </tr>\n",
       "    <tr>\n",
       "      <th>1</th>\n",
       "      <td>6</td>\n",
       "      <td>8</td>\n",
       "      <td>3</td>\n",
       "    </tr>\n",
       "    <tr>\n",
       "      <th>...</th>\n",
       "      <td>...</td>\n",
       "      <td>...</td>\n",
       "      <td>...</td>\n",
       "    </tr>\n",
       "    <tr>\n",
       "      <th>4</th>\n",
       "      <td>5</td>\n",
       "      <td>8</td>\n",
       "      <td>3</td>\n",
       "    </tr>\n",
       "    <tr>\n",
       "      <th>5</th>\n",
       "      <td>4</td>\n",
       "      <td>4</td>\n",
       "      <td>5</td>\n",
       "    </tr>\n",
       "  </tbody>\n",
       "</table>\n",
       "<p>6 rows × 3 columns</p>\n",
       "</div>"
      ],
      "text/plain": [
       "    first_name  last_name  age\n",
       "0            4          8    3\n",
       "1            6          8    3\n",
       "..         ...        ...  ...\n",
       "4            5          8    3\n",
       "5            4          4    5\n",
       "\n",
       "[6 rows x 3 columns]"
      ]
     },
     "execution_count": 241,
     "metadata": {},
     "output_type": "execute_result"
    }
   ],
   "source": [
    "# apply certain function to each values of data frame\n",
    "df.applymap(len)"
   ]
  },
  {
   "cell_type": "code",
   "execution_count": 242,
   "metadata": {},
   "outputs": [
    {
     "data": {
      "text/html": [
       "<div>\n",
       "<style scoped>\n",
       "    .dataframe tbody tr th:only-of-type {\n",
       "        vertical-align: middle;\n",
       "    }\n",
       "\n",
       "    .dataframe tbody tr th {\n",
       "        vertical-align: top;\n",
       "    }\n",
       "\n",
       "    .dataframe thead th {\n",
       "        text-align: right;\n",
       "    }\n",
       "</style>\n",
       "<table border=\"1\" class=\"dataframe\">\n",
       "  <thead>\n",
       "    <tr style=\"text-align: right;\">\n",
       "      <th></th>\n",
       "      <th>first_name</th>\n",
       "      <th>last_name</th>\n",
       "      <th>age</th>\n",
       "    </tr>\n",
       "  </thead>\n",
       "  <tbody>\n",
       "    <tr>\n",
       "      <th>0</th>\n",
       "      <td>sony</td>\n",
       "      <td>shrestha</td>\n",
       "      <td>one</td>\n",
       "    </tr>\n",
       "    <tr>\n",
       "      <th>1</th>\n",
       "      <td>pragya</td>\n",
       "      <td>shrestha</td>\n",
       "      <td>one</td>\n",
       "    </tr>\n",
       "    <tr>\n",
       "      <th>...</th>\n",
       "      <td>...</td>\n",
       "      <td>...</td>\n",
       "      <td>...</td>\n",
       "    </tr>\n",
       "    <tr>\n",
       "      <th>4</th>\n",
       "      <td>harry</td>\n",
       "      <td>shrestha</td>\n",
       "      <td>one</td>\n",
       "    </tr>\n",
       "    <tr>\n",
       "      <th>5</th>\n",
       "      <td>sita</td>\n",
       "      <td>giri</td>\n",
       "      <td>three</td>\n",
       "    </tr>\n",
       "  </tbody>\n",
       "</table>\n",
       "<p>6 rows × 3 columns</p>\n",
       "</div>"
      ],
      "text/plain": [
       "   first_name last_name    age\n",
       "0        sony  shrestha    one\n",
       "1      pragya  shrestha    one\n",
       "..        ...       ...    ...\n",
       "4       harry  shrestha    one\n",
       "5        sita      giri  three\n",
       "\n",
       "[6 rows x 3 columns]"
      ]
     },
     "execution_count": 242,
     "metadata": {},
     "output_type": "execute_result"
    }
   ],
   "source": [
    "# apply certain function to each values of data frame\n",
    "df.applymap(str.lower)"
   ]
  },
  {
   "cell_type": "code",
   "execution_count": 211,
   "metadata": {},
   "outputs": [
    {
     "name": "stdout",
     "output_type": "stream",
     "text": [
      "   first_name last_name  age\n",
      "0        sony  Shrestha   20\n",
      "1      pragya  Shrestha   20\n",
      "..        ...       ...  ...\n",
      "4       harry  Shrestha   20\n",
      "5        sita      Giri   19\n",
      "\n",
      "[6 rows x 3 columns]\n"
     ]
    },
    {
     "data": {
      "text/plain": [
       "0    Sony\n",
       "1     NaN\n",
       "     ... \n",
       "4     NaN\n",
       "5    Sita\n",
       "Name: first_name, Length: 6, dtype: object"
      ]
     },
     "execution_count": 211,
     "metadata": {},
     "output_type": "execute_result"
    }
   ],
   "source": [
    "# map: if mapped value is not present, it returns NaN\n",
    "print(df)\n",
    "df[\"first_name\"].map({\"sony\":\"Sony\",\"sita\":\"Sita\"})"
   ]
  },
  {
   "cell_type": "code",
   "execution_count": 243,
   "metadata": {},
   "outputs": [
    {
     "name": "stdout",
     "output_type": "stream",
     "text": [
      "   first_name last_name    age\n",
      "0        sony  Shrestha    one\n",
      "1      pragya  Shrestha    one\n",
      "..        ...       ...    ...\n",
      "4       harry  Shrestha    one\n",
      "5        sita      Giri  three\n",
      "\n",
      "[6 rows x 3 columns]\n"
     ]
    },
    {
     "data": {
      "text/plain": [
       "0   NaN\n",
       "1   NaN\n",
       "     ..\n",
       "4   NaN\n",
       "5   NaN\n",
       "Name: age, Length: 6, dtype: float64"
      ]
     },
     "execution_count": 243,
     "metadata": {},
     "output_type": "execute_result"
    }
   ],
   "source": [
    "# map: if mapped value is not present, it returns NaN\n",
    "print(df)\n",
    "df[\"age\"].map({20:24,10:11})"
   ]
  },
  {
   "cell_type": "code",
   "execution_count": 244,
   "metadata": {},
   "outputs": [
    {
     "name": "stdout",
     "output_type": "stream",
     "text": [
      "   first_name last_name    age\n",
      "0        sony  Shrestha    one\n",
      "1      pragya  Shrestha    one\n",
      "..        ...       ...    ...\n",
      "4       harry  Shrestha    one\n",
      "5        sita      Giri  three\n",
      "\n",
      "[6 rows x 3 columns]\n"
     ]
    },
    {
     "data": {
      "text/plain": [
       "0      Sony\n",
       "1    pragya\n",
       "      ...  \n",
       "4     harry\n",
       "5      Sita\n",
       "Name: first_name, Length: 6, dtype: object"
      ]
     },
     "execution_count": 244,
     "metadata": {},
     "output_type": "execute_result"
    }
   ],
   "source": [
    "# replace: replace value\n",
    "print(df)\n",
    "df[\"first_name\"].replace({\"sony\":\"Sony\",\"sita\":\"Sita\"})"
   ]
  }
 ],
 "metadata": {
  "kernelspec": {
   "display_name": "Python 3",
   "language": "python",
   "name": "python3"
  },
  "language_info": {
   "codemirror_mode": {
    "name": "ipython",
    "version": 3
   },
   "file_extension": ".py",
   "mimetype": "text/x-python",
   "name": "python",
   "nbconvert_exporter": "python",
   "pygments_lexer": "ipython3",
   "version": "3.8.5"
  }
 },
 "nbformat": 4,
 "nbformat_minor": 4
}
